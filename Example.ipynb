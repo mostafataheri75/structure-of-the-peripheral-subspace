{
 "cells": [
  {
   "cell_type": "code",
   "execution_count": 1,
   "metadata": {},
   "outputs": [
    {
     "data": {
      "text/plain": [
       "find_minimal_projections"
      ]
     },
     "metadata": {},
     "output_type": "display_data"
    }
   ],
   "source": [
    "include(\"Peripheral_subspace_structure.jl\")\n"
   ]
  },
  {
   "cell_type": "markdown",
   "metadata": {},
   "source": [
    "# Exampel 1: Phase flip channel"
   ]
  },
  {
   "cell_type": "markdown",
   "metadata": {},
   "source": [
    "$\\mathcal T(\\rho)= \\sigma_Z \\rho \\sigma_Z$"
   ]
  },
  {
   "cell_type": "code",
   "execution_count": 2,
   "metadata": {},
   "outputs": [],
   "source": [
    "kraus_ops=[[1 0;0 -1]];"
   ]
  },
  {
   "cell_type": "markdown",
   "metadata": {},
   "source": [
    "##  Structure of peripheral subspace"
   ]
  },
  {
   "cell_type": "code",
   "execution_count": 3,
   "metadata": {},
   "outputs": [
    {
     "name": "stdout",
     "output_type": "stream",
     "text": [
      "Number of Sectors K= 1\n",
      "d_1 = 2\t d'_1 = 1\n"
     ]
    }
   ],
   "source": [
    "P_C, P=structure_of_peripheral_subspace(kraus_ops);"
   ]
  },
  {
   "cell_type": "code",
   "execution_count": 4,
   "metadata": {},
   "outputs": [
    {
     "name": "stdout",
     "output_type": "stream",
     "text": [
      "Number of Sectors K= 2\n",
      "d_1 = 1\t d'_1 = 1\n",
      "d_2 = 1\t d'_2 = 1\n"
     ]
    }
   ],
   "source": [
    "P_C, P=structure_of_fixed_subspace(kraus_ops);"
   ]
  },
  {
   "cell_type": "markdown",
   "metadata": {},
   "source": [
    "# Example 2: tensor product of two phase flip channel"
   ]
  },
  {
   "cell_type": "markdown",
   "metadata": {},
   "source": [
    "kraus_ops={$\\sigma_z\\otimes \\sigma_z$}"
   ]
  },
  {
   "cell_type": "code",
   "execution_count": 5,
   "metadata": {},
   "outputs": [],
   "source": [
    "Z=[1 0;0 -1];\n",
    "kraus_ops=[kron(Z,Z)];"
   ]
  },
  {
   "cell_type": "code",
   "execution_count": 6,
   "metadata": {},
   "outputs": [
    {
     "name": "stdout",
     "output_type": "stream",
     "text": [
      "Number of Sectors K= 1\n",
      "d_1 = 4\t d'_1 = 1\n"
     ]
    }
   ],
   "source": [
    "P_C, P=structure_of_peripheral_subspace(kraus_ops);\n"
   ]
  },
  {
   "cell_type": "code",
   "execution_count": 7,
   "metadata": {},
   "outputs": [
    {
     "name": "stdout",
     "output_type": "stream",
     "text": [
      "Number of Sectors K= 2\n",
      "d_1 = 2\t d'_1 = 1\n",
      "d_2 = 2\t d'_2 = 1\n"
     ]
    }
   ],
   "source": [
    "P_C, P=structure_of_fixed_subspace(kraus_ops);\n"
   ]
  },
  {
   "cell_type": "markdown",
   "metadata": {},
   "source": [
    "# Example 3: "
   ]
  },
  {
   "cell_type": "markdown",
   "metadata": {},
   "source": [
    "kraus_ops =$\\frac{1}{\\sqrt 2}${ $\\mathbf I\\otimes \\sigma_z, \\sigma_z \\otimes\\mathbf I$ }"
   ]
  },
  {
   "cell_type": "code",
   "execution_count": 8,
   "metadata": {},
   "outputs": [],
   "source": [
    "I2=[1 0;0 1];\n",
    "Z=[1 0;0 -1];\n",
    "kraus_ops=[kron(I2,Z)./sqrt(2),kron(Z,I2)./sqrt(2)];"
   ]
  },
  {
   "cell_type": "code",
   "execution_count": 9,
   "metadata": {},
   "outputs": [
    {
     "name": "stdout",
     "output_type": "stream",
     "text": [
      "Number of Sectors K= 2\n",
      "d_1 = 2\t d'_1 = 1\n",
      "d_2 = 2\t d'_2 = 1\n"
     ]
    }
   ],
   "source": [
    "P_C, P=structure_of_peripheral_subspace(kraus_ops);\n"
   ]
  },
  {
   "cell_type": "code",
   "execution_count": 10,
   "metadata": {},
   "outputs": [
    {
     "name": "stdout",
     "output_type": "stream",
     "text": [
      "Number of Sectors K= 4\n",
      "d_1 = 1\t d'_1 = 1\n",
      "d_2 = 1\t d'_2 = 1\n",
      "d_3 = 1\t d'_3 = 1\n",
      "d_4 = 1\t d'_4 = 1\n"
     ]
    }
   ],
   "source": [
    "P_C, P=structure_of_fixed_subspace(kraus_ops);\n"
   ]
  },
  {
   "cell_type": "markdown",
   "metadata": {},
   "source": [
    "# Example 4: Collective Noise Channel"
   ]
  },
  {
   "cell_type": "markdown",
   "metadata": {},
   "source": [
    "Collective noise on $n$ qubits can be described using the operators $\\mathbf{X} = X_1 + \\cdots + X_n$, $\\mathbf{Y} = Y_1 + \\cdots + Y_n$, and $\\mathbf{Z} = Z_1 + \\cdots + Z_n$, where $X_i$, $Y_i$, and $Z_i$ are the Pauli matrices $\\sigma_X$, $\\sigma_Y$, and $\\sigma_Z$ acting on the $i$-th qubit, respectively. The Kraus operators for the collective noise are defined as\n",
    "\n",
    "$$E_X:= \\frac{1}{\\sqrt 3} \\exp(i\\mathbf X) $$\n",
    "$$E_Y:= \\frac{1}{\\sqrt 3} \\exp(i\\mathbf Y) $$\n",
    "$$E_Z:= \\frac{1}{\\sqrt 3} \\exp(i\\mathbf Z) $$\n"
   ]
  },
  {
   "cell_type": "markdown",
   "metadata": {},
   "source": [
    "## Kraus_ops for  collective noise channel"
   ]
  },
  {
   "cell_type": "code",
   "execution_count": 11,
   "metadata": {},
   "outputs": [
    {
     "data": {
      "text/plain": [
       "kraus_operators_collective (generic function with 1 method)"
      ]
     },
     "metadata": {},
     "output_type": "display_data"
    }
   ],
   "source": [
    "\n",
    "# Function to create the tensor product of n identity matrices\n",
    "function kron_identity(n)\n",
    "    if n == 0\n",
    "        return 1\n",
    "        \n",
    "    elseif  n == 1\n",
    "        return I(2)\n",
    "    else\n",
    "        return kron(I(2), kron_identity(n-1))\n",
    "    end\n",
    "end\n",
    "\n",
    "# Function to create the X, Y, Z operators for n qubits\n",
    "function create_operators(n)\n",
    "    X = [0 1; 1 0]\n",
    "    Y = [0 -im; im 0]\n",
    "    Z = [1 0; 0 -1]\n",
    "    \n",
    "    X_ops = [kron(kron_identity(i-1), kron(X, kron_identity(n-i))) for i in 1:n]\n",
    "    Y_ops = [kron(kron_identity(i-1), kron(Y, kron_identity(n-i))) for i in 1:n]\n",
    "    Z_ops = [kron(kron_identity(i-1), kron(Z, kron_identity(n-i))) for i in 1:n]\n",
    "    \n",
    "    return sum(X_ops), sum(Y_ops), sum(Z_ops)\n",
    "end\n",
    "\n",
    "# Function to create the Kraus operators\n",
    "function kraus_operators_collective(n)\n",
    "    X_sum, Y_sum, Z_sum = create_operators(n)\n",
    "    \n",
    "    E_x = (1 / sqrt(3)) * exp(1im * X_sum)\n",
    "    E_y = (1 / sqrt(3)) * exp(1im * Y_sum)\n",
    "    E_z = (1 / sqrt(3)) * exp(1im * Z_sum)\n",
    "    \n",
    "    return [E_x, E_y, E_z]\n",
    "end\n"
   ]
  },
  {
   "cell_type": "markdown",
   "metadata": {},
   "source": [
    "## 3-qubit"
   ]
  },
  {
   "cell_type": "code",
   "execution_count": 12,
   "metadata": {},
   "outputs": [],
   "source": [
    "kraus_ops= kraus_operators_collective(3);"
   ]
  },
  {
   "cell_type": "code",
   "execution_count": 13,
   "metadata": {},
   "outputs": [
    {
     "name": "stdout",
     "output_type": "stream",
     "text": [
      "Number of Sectors K= 2\n",
      "d_1 = 1\t d'_1 = 4\n",
      "d_2 = 2\t d'_2 = 2\n"
     ]
    }
   ],
   "source": [
    "P_C, P=structure_of_peripheral_subspace(kraus_ops);"
   ]
  },
  {
   "cell_type": "code",
   "execution_count": 14,
   "metadata": {},
   "outputs": [
    {
     "name": "stdout",
     "output_type": "stream",
     "text": [
      "Number of Sectors K= 2\n",
      "d_1 = 2\t d'_1 = 2\n",
      "d_2 = 1\t d'_2 = 4\n"
     ]
    }
   ],
   "source": [
    "P_C, P=structure_of_fixed_subspace(kraus_ops);"
   ]
  },
  {
   "cell_type": "markdown",
   "metadata": {},
   "source": [
    "## 4-qubit"
   ]
  },
  {
   "cell_type": "code",
   "execution_count": 15,
   "metadata": {},
   "outputs": [],
   "source": [
    "kraus_ops= kraus_operators_collective(4);"
   ]
  },
  {
   "cell_type": "code",
   "execution_count": 16,
   "metadata": {},
   "outputs": [
    {
     "name": "stdout",
     "output_type": "stream",
     "text": [
      "Number of Sectors K= 3\n",
      "d_1 = 2\t d'_1 = 1\n",
      "d_2 = 1\t d'_2 = 5\n",
      "d_3 = 3\t d'_3 = 3\n"
     ]
    }
   ],
   "source": [
    "P_C, P=structure_of_peripheral_subspace(kraus_ops);"
   ]
  },
  {
   "cell_type": "code",
   "execution_count": 17,
   "metadata": {},
   "outputs": [
    {
     "name": "stdout",
     "output_type": "stream",
     "text": [
      "Number of Sectors K= 3\n",
      "d_1 = 2\t d'_1 = 1\n",
      "d_2 = 3\t d'_2 = 3\n",
      "d_3 = 1\t d'_3 = 5\n"
     ]
    }
   ],
   "source": [
    "P_C, P=structure_of_fixed_subspace(kraus_ops);"
   ]
  },
  {
   "cell_type": "markdown",
   "metadata": {},
   "source": [
    "5-qubit"
   ]
  },
  {
   "cell_type": "code",
   "execution_count": 18,
   "metadata": {},
   "outputs": [],
   "source": [
    "kraus_ops= kraus_operators_collective(5);"
   ]
  },
  {
   "cell_type": "code",
   "execution_count": 19,
   "metadata": {},
   "outputs": [
    {
     "name": "stdout",
     "output_type": "stream",
     "text": [
      "Number of Sectors K= 3\n",
      "d_1 = 1\t d'_1 = 6\n",
      "d_2 = 5\t d'_2 = 2\n",
      "d_3 = 4\t d'_3 = 4\n"
     ]
    }
   ],
   "source": [
    "P_C, P=structure_of_peripheral_subspace(kraus_ops);\n"
   ]
  },
  {
   "cell_type": "code",
   "execution_count": 20,
   "metadata": {},
   "outputs": [
    {
     "name": "stdout",
     "output_type": "stream",
     "text": [
      "Number of Sectors K= 3\n",
      "d_1 = 1\t d'_1 = 6\n",
      "d_2 = 5\t d'_2 = 2\n",
      "d_3 = 4\t d'_3 = 4\n"
     ]
    }
   ],
   "source": [
    "P_C, P=structure_of_fixed_subspace(kraus_ops);"
   ]
  }
 ],
 "metadata": {
  "kernelspec": {
   "display_name": "Julia 1.10.0",
   "language": "julia",
   "name": "julia-1.10"
  },
  "language_info": {
   "file_extension": ".jl",
   "mimetype": "application/julia",
   "name": "julia",
   "version": "1.10.0"
  }
 },
 "nbformat": 4,
 "nbformat_minor": 2
}
